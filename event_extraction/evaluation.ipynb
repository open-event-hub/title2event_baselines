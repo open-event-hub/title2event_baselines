{
 "cells": [
  {
   "cell_type": "code",
   "execution_count": 28,
   "metadata": {},
   "outputs": [],
   "source": [
    "import pandas as pd\n",
    "def evaluate(df: pd.DataFrame):\n",
    "    ref_num = sum(df.event_triples.apply(lambda x: len(x)))\n",
    "    pred_num = sum(df.pred_event_triples.apply(lambda x: len(x)))\n",
    "    trg_match_cnt = 0\n",
    "    arg_match_cnt = 0\n",
    "    triple_match_cnt = 0\n",
    "    unmatched_trgs = []\n",
    "    for idx, row in df.iterrows():\n",
    "        for pred in row.pred_event_triples:\n",
    "            if len(pred) == 1:\n",
    "                pred = [\"\", pred[0], \"\"]\n",
    "            trg_match = arg_match = triple_match = False\n",
    "            for ref in row.event_triples:\n",
    "                if pred == ref: triple_match = True\n",
    "                if pred[1]==ref[1]: trg_match = True\n",
    "                tmp_pred, tmp_ref = pred.copy(), ref.copy()\n",
    "                tmp_pred.pop(1)\n",
    "                tmp_ref.pop(1)\n",
    "                if tmp_pred == tmp_ref: arg_match = True\n",
    "            if trg_match: trg_match_cnt += 1\n",
    "            else: unmatched_trgs.append(pred[1])\n",
    "            if arg_match: arg_match_cnt += 1\n",
    "            if triple_match: triple_match_cnt += 1\n",
    "    F1 = lambda p,r: \"{:.5f}\".format(2*p*r/(p+r))\n",
    "    trg_p, arg_p, trp_p = trg_match_cnt/pred_num, arg_match_cnt/pred_num, triple_match_cnt/pred_num\n",
    "    trg_r, arg_r, trp_r = trg_match_cnt/ref_num, arg_match_cnt/ref_num, triple_match_cnt/ref_num\n",
    "    trg_f, arg_f, trp_f = F1(trg_p, trg_r), F1(arg_p, arg_r), F1(trp_p, trp_r)\n",
    "\n",
    "    from tabulate import tabulate\n",
    "    header = [\"task\", \"Precision\", \"Recall\", \"F1\"]\n",
    "    rows = [\n",
    "        (\"Trigger Identification\", trg_p, trg_r, trg_f),\n",
    "        (\"Argument Identification\", arg_p, arg_r, arg_f),\n",
    "        (\"Triple Identification\", trp_p, trp_r, trp_f),\n",
    "    ]\n",
    "    print(tabulate(rows, headers=header))\n",
    "    print(\"ref num %d, pred num %d\" % (ref_num, pred_num))\n",
    "    print(\"trg match: %d, arg match: %d, trp match: %d\" % (trg_match_cnt, arg_match_cnt, triple_match_cnt))\n",
    "    return unmatched_trgs"
   ]
  },
  {
   "cell_type": "code",
   "execution_count": 15,
   "metadata": {},
   "outputs": [
    {
     "name": "stdout",
     "output_type": "stream",
     "text": [
      "task                       Precision    Recall       F1\n",
      "-----------------------  -----------  --------  -------\n",
      "Trigger Identification      0.704233  0.700626  0.70243\n",
      "Argument Identification     0.482838  0.480364  0.4816\n",
      "Triple Identification       0.403175  0.40111   0.40214\n",
      "ref num 7028, pred num 6992\n",
      "trg match: 4924, arg match: 3376, trp match: 2819\n"
     ]
    }
   ],
   "source": [
    "df = pd.read_csv(\"output/arg_ner/bert-base-chinese/pipeline_predictions.csv\")\n",
    "df['event_triples'] = df['event_triples'].apply(lambda x: eval(x.lower().replace(\" \", \"\")))\n",
    "df['pred_event_triples'] = df['pred_event_triples'].apply(lambda x: eval(x.lower().replace(\" \", \"\")))\n",
    "df['pred_event_triples'] = df['pred_event_triples'].apply(lambda x: [i for i in x if i!=[]])\n",
    "evaluate(df)"
   ]
  },
  {
   "cell_type": "code",
   "execution_count": 30,
   "metadata": {},
   "outputs": [
    {
     "name": "stdout",
     "output_type": "stream",
     "text": [
      "task                       Precision    Recall       F1\n",
      "-----------------------  -----------  --------  -------\n",
      "Trigger Identification      0.993959  0.993959  0.99396\n",
      "Argument Identification     0.325902  0.325902  0.3259\n",
      "Triple Identification       0.322307  0.322307  0.32231\n",
      "ref num 6953, pred num 6953\n",
      "trg match: 6911, arg match: 2266, trp match: 2241\n"
     ]
    }
   ],
   "source": [
    "df = pd.read_csv(\"output/arg_ner/bert-base-chinese/arg_predictions.csv\")\n",
    "df['event_triples'] = df['event_triples'].apply(lambda x: eval(x.lower().replace(\" \", \"\")))\n",
    "df['pred_event_triples'] = df['pred_event_triples'].apply(lambda x: eval(x.lower().replace(\" \", \"\")))\n",
    "df['pred_event_triples'] = df['pred_event_triples'].apply(lambda x: [i for i in x if i!=[]])\n",
    "_ = evaluate(df)"
   ]
  },
  {
   "cell_type": "code",
   "execution_count": 32,
   "metadata": {},
   "outputs": [
    {
     "name": "stdout",
     "output_type": "stream",
     "text": [
      "None\n"
     ]
    }
   ],
   "source": [
    "print(_)"
   ]
  },
  {
   "cell_type": "code",
   "execution_count": 16,
   "metadata": {},
   "outputs": [
    {
     "name": "stdout",
     "output_type": "stream",
     "text": [
      "task                       Precision    Recall       F1\n",
      "-----------------------  -----------  --------  -------\n",
      "Trigger Identification      0.740332  0.679738  0.70874\n",
      "Argument Identification     0.622612  0.571653  0.59605\n",
      "Triple Identification       0.420562  0.38614   0.40262\n",
      "ref num 7013, pred num 6439\n",
      "trg match: 4767, arg match: 4009, trp match: 2708\n"
     ]
    }
   ],
   "source": [
    "df = pd.read_csv(\"output/arg_qa/bert-base-chinese/pipeline_predictions.csv\")\n",
    "df['event_triples'] = df['event_triples'].apply(lambda x: eval(x.lower().replace(\" \", \"\")))\n",
    "df['pred_event_triples'] = df['pred_event_triples'].apply(lambda x: eval(x.lower().replace(\" \", \"\")))\n",
    "df['pred_event_triples'] = df['pred_event_triples'].apply(lambda x: [i for i in x if i!=[]])\n",
    "evaluate(df)"
   ]
  },
  {
   "cell_type": "code",
   "execution_count": 84,
   "metadata": {},
   "outputs": [
    {
     "name": "stdout",
     "output_type": "stream",
     "text": [
      "task                       Precision    Recall       F1\n",
      "-----------------------  -----------  --------  -------\n",
      "Trigger Identification      0.892964  0.857656  0.87495\n",
      "Argument Identification     0.774701  0.744069  0.75908\n",
      "Triple Identification       0.625     0.600288  0.61239\n",
      "ref num 1391, pred num 1336\n",
      "trg match: 1193, arg match: 1035, trp match: 835\n"
     ]
    }
   ],
   "source": [
    "from tabulate import tabulate\n",
    "header = [\"task\", \"Precision\", \"Recall\", \"F1\"]\n",
    "rows = [\n",
    "    (\"Trigger Identification\", trg_p, trg_r, trg_f),\n",
    "    (\"Argument Identification\", arg_p, arg_r, arg_f),\n",
    "    (\"Triple Identification\", trp_p, trp_r, trp_f),\n",
    "]\n",
    "print(tabulate(rows, headers=header))\n",
    "print(\"ref num %d, pred num %d\" % (ref_num, pred_num))\n",
    "print(\"trg match: %d, arg match: %d, trp match: %d\" % (trg_match_cnt, arg_match_cnt, triple_match_cnt))"
   ]
  },
  {
   "cell_type": "code",
   "execution_count": 11,
   "metadata": {},
   "outputs": [
    {
     "data": {
      "text/html": [
       "<div>\n",
       "<style scoped>\n",
       "    .dataframe tbody tr th:only-of-type {\n",
       "        vertical-align: middle;\n",
       "    }\n",
       "\n",
       "    .dataframe tbody tr th {\n",
       "        vertical-align: top;\n",
       "    }\n",
       "\n",
       "    .dataframe thead th {\n",
       "        text-align: right;\n",
       "    }\n",
       "</style>\n",
       "<table border=\"1\" class=\"dataframe\">\n",
       "  <thead>\n",
       "    <tr style=\"text-align: right;\">\n",
       "      <th></th>\n",
       "      <th>title_id</th>\n",
       "      <th>title</th>\n",
       "      <th>event_triples</th>\n",
       "      <th>pred_event_triples</th>\n",
       "    </tr>\n",
       "  </thead>\n",
       "  <tbody>\n",
       "    <tr>\n",
       "      <th>0</th>\n",
       "      <td>14282</td>\n",
       "      <td>新年新气象！新昌连续征收9宗地块，涉及七星、澄谭...</td>\n",
       "      <td>[[新昌, 征收, 9宗地块], [9宗地块, 涉及, 七星、澄谭]]</td>\n",
       "      <td>[[新昌, 征收, 9宗地块], [新昌9宗地块, 涉及, 七星、澄谭]]</td>\n",
       "    </tr>\n",
       "    <tr>\n",
       "      <th>1</th>\n",
       "      <td>25525</td>\n",
       "      <td>方媛不顾疫情出街购物,惹郭富城不满当街发飙,紧皱眉头怒瞪镜头</td>\n",
       "      <td>[[方媛, 出街购物, ], [方媛, 惹不满, 郭富城], [郭富城, 发飙, ], [郭...</td>\n",
       "      <td>[[方媛, 不顾, 疫情], [方媛, 出街购物, ], [方媛, 惹不满, 郭富城], [...</td>\n",
       "    </tr>\n",
       "    <tr>\n",
       "      <th>2</th>\n",
       "      <td>4594</td>\n",
       "      <td>保山市隆阳区西邑乡2022年上半年征兵工作全面启动</td>\n",
       "      <td>[[保山市隆阳区西邑乡2022年上半年征兵工作, 启动, ]]</td>\n",
       "      <td>[[保山市隆阳区西邑乡2022上半年征兵工作, 全面启动, ]]</td>\n",
       "    </tr>\n",
       "    <tr>\n",
       "      <th>3</th>\n",
       "      <td>10698</td>\n",
       "      <td>徒劳无功！威少打出劲爆数据依然被骂，美媒列数据证他是湖人毒瘤</td>\n",
       "      <td>[[威少, 打出, 劲爆数据], [威少, 被骂, ]]</td>\n",
       "      <td>[[威少, 打出, 劲爆数据], [威少, 被骂, ], [数据, 列, 美媒], [威少,...</td>\n",
       "    </tr>\n",
       "    <tr>\n",
       "      <th>4</th>\n",
       "      <td>35618</td>\n",
       "      <td>“雪容融”上“线”！玉环非遗刺绣为冬残奥会加油</td>\n",
       "      <td>[[“雪容融”, 上“线”, ], [玉环非遗刺绣, 为加油, 冬残奥会]]</td>\n",
       "      <td>[[玉环非遗刺绣, 为加油, 冬残奥会]]</td>\n",
       "    </tr>\n",
       "    <tr>\n",
       "      <th>...</th>\n",
       "      <td>...</td>\n",
       "      <td>...</td>\n",
       "      <td>...</td>\n",
       "      <td>...</td>\n",
       "    </tr>\n",
       "    <tr>\n",
       "      <th>4287</th>\n",
       "      <td>6265</td>\n",
       "      <td>广东省住房城乡建设厅：将尽快出台省级建筑废弃物管理条例</td>\n",
       "      <td>[[广东省住房城乡建设厅, 将出台, 省级建筑废弃物管理条例], [广东省住房城乡建设厅, ...</td>\n",
       "      <td>[[广东省住房城乡建设厅, ：, 将尽快出台省级建筑废弃物管理条例], [广东省住房城乡建设...</td>\n",
       "    </tr>\n",
       "    <tr>\n",
       "      <th>4288</th>\n",
       "      <td>11284</td>\n",
       "      <td>飞尚科技发起成立江西省城市安全信息化学会,提升城市公共安全治理能力</td>\n",
       "      <td>[[飞尚科技, 发起成立, 江西省城市安全信息化学会], [飞尚科技, 提升, 城市公共安全...</td>\n",
       "      <td>[[飞尚科技, 发起成立, 江西省城市安全信息化学会], [飞尚科技发起, 提升, 城市公共...</td>\n",
       "    </tr>\n",
       "    <tr>\n",
       "      <th>4289</th>\n",
       "      <td>38158</td>\n",
       "      <td>被受质疑的溢涌堂;从虚假宣传被罚到模式涉嫌传销,再到被异地冻结账户!</td>\n",
       "      <td>[[溢涌堂, 虚假宣传, ], [溢涌堂, 被罚, ], [溢涌堂模式, 涉嫌传销, ], ...</td>\n",
       "      <td>[[溢涌堂, 虚假宣传, 被罚到模式], [溢涌堂, 被罚, ], [溢涌堂, 涉嫌, 传销...</td>\n",
       "    </tr>\n",
       "    <tr>\n",
       "      <th>4290</th>\n",
       "      <td>860</td>\n",
       "      <td>姐弟坠亡案：聊天记录公布,生父与小三合谋杀害子女,触目惊心</td>\n",
       "      <td>[[姐弟坠亡案聊天记录, 公布, ], [生父与小三, 合谋杀害, 子女]]</td>\n",
       "      <td>[[姐弟坠亡案聊天记录, 公布, ], [姐弟生父与小三, 合谋杀害, 子女]]</td>\n",
       "    </tr>\n",
       "    <tr>\n",
       "      <th>4291</th>\n",
       "      <td>15795</td>\n",
       "      <td>懐莊·中国行丨酩动侨乡·懐莊主线直营系列产品发布会【广东台江门站】在台山市举行</td>\n",
       "      <td>[[酩动侨乡莊主线直营系列产品发布会广东台江门站, 举行, ]]</td>\n",
       "      <td>[[酩动侨乡·[unk]莊主线直营系列产品发布会, 举行, ]]</td>\n",
       "    </tr>\n",
       "  </tbody>\n",
       "</table>\n",
       "<p>4292 rows × 4 columns</p>\n",
       "</div>"
      ],
      "text/plain": [
       "      title_id                                    title  \\\n",
       "0        14282              新年新气象！新昌连续征收9宗地块，涉及七星、澄谭...   \n",
       "1        25525           方媛不顾疫情出街购物,惹郭富城不满当街发飙,紧皱眉头怒瞪镜头   \n",
       "2         4594                保山市隆阳区西邑乡2022年上半年征兵工作全面启动   \n",
       "3        10698           徒劳无功！威少打出劲爆数据依然被骂，美媒列数据证他是湖人毒瘤   \n",
       "4        35618                  “雪容融”上“线”！玉环非遗刺绣为冬残奥会加油   \n",
       "...        ...                                      ...   \n",
       "4287      6265              广东省住房城乡建设厅：将尽快出台省级建筑废弃物管理条例   \n",
       "4288     11284        飞尚科技发起成立江西省城市安全信息化学会,提升城市公共安全治理能力   \n",
       "4289     38158       被受质疑的溢涌堂;从虚假宣传被罚到模式涉嫌传销,再到被异地冻结账户!   \n",
       "4290       860            姐弟坠亡案：聊天记录公布,生父与小三合谋杀害子女,触目惊心   \n",
       "4291     15795  懐莊·中国行丨酩动侨乡·懐莊主线直营系列产品发布会【广东台江门站】在台山市举行   \n",
       "\n",
       "                                          event_triples  \\\n",
       "0                   [[新昌, 征收, 9宗地块], [9宗地块, 涉及, 七星、澄谭]]   \n",
       "1     [[方媛, 出街购物, ], [方媛, 惹不满, 郭富城], [郭富城, 发飙, ], [郭...   \n",
       "2                       [[保山市隆阳区西邑乡2022年上半年征兵工作, 启动, ]]   \n",
       "3                          [[威少, 打出, 劲爆数据], [威少, 被骂, ]]   \n",
       "4                [[“雪容融”, 上“线”, ], [玉环非遗刺绣, 为加油, 冬残奥会]]   \n",
       "...                                                 ...   \n",
       "4287  [[广东省住房城乡建设厅, 将出台, 省级建筑废弃物管理条例], [广东省住房城乡建设厅, ...   \n",
       "4288  [[飞尚科技, 发起成立, 江西省城市安全信息化学会], [飞尚科技, 提升, 城市公共安全...   \n",
       "4289  [[溢涌堂, 虚假宣传, ], [溢涌堂, 被罚, ], [溢涌堂模式, 涉嫌传销, ], ...   \n",
       "4290             [[姐弟坠亡案聊天记录, 公布, ], [生父与小三, 合谋杀害, 子女]]   \n",
       "4291                   [[酩动侨乡莊主线直营系列产品发布会广东台江门站, 举行, ]]   \n",
       "\n",
       "                                     pred_event_triples  \n",
       "0                 [[新昌, 征收, 9宗地块], [新昌9宗地块, 涉及, 七星、澄谭]]  \n",
       "1     [[方媛, 不顾, 疫情], [方媛, 出街购物, ], [方媛, 惹不满, 郭富城], [...  \n",
       "2                      [[保山市隆阳区西邑乡2022上半年征兵工作, 全面启动, ]]  \n",
       "3     [[威少, 打出, 劲爆数据], [威少, 被骂, ], [数据, 列, 美媒], [威少,...  \n",
       "4                                 [[玉环非遗刺绣, 为加油, 冬残奥会]]  \n",
       "...                                                 ...  \n",
       "4287  [[广东省住房城乡建设厅, ：, 将尽快出台省级建筑废弃物管理条例], [广东省住房城乡建设...  \n",
       "4288  [[飞尚科技, 发起成立, 江西省城市安全信息化学会], [飞尚科技发起, 提升, 城市公共...  \n",
       "4289  [[溢涌堂, 虚假宣传, 被罚到模式], [溢涌堂, 被罚, ], [溢涌堂, 涉嫌, 传销...  \n",
       "4290           [[姐弟坠亡案聊天记录, 公布, ], [姐弟生父与小三, 合谋杀害, 子女]]  \n",
       "4291                   [[酩动侨乡·[unk]莊主线直营系列产品发布会, 举行, ]]  \n",
       "\n",
       "[4292 rows x 4 columns]"
      ]
     },
     "execution_count": 11,
     "metadata": {},
     "output_type": "execute_result"
    }
   ],
   "source": [
    "df"
   ]
  },
  {
   "cell_type": "code",
   "execution_count": 42,
   "metadata": {},
   "outputs": [
    {
     "data": {
      "text/plain": [
       "True"
      ]
     },
     "execution_count": 42,
     "metadata": {},
     "output_type": "execute_result"
    }
   ],
   "source": [
    "(df2.event_triples == df.event_triples).all()"
   ]
  },
  {
   "cell_type": "code",
   "execution_count": 32,
   "metadata": {},
   "outputs": [],
   "source": [
    "ids = []\n",
    "for i in range(len(df)):\n",
    "    if df.loc[i].event_triples != df2.loc[i].event_triples:\n",
    "        ids.append(i)"
   ]
  },
  {
   "cell_type": "code",
   "execution_count": 34,
   "metadata": {},
   "outputs": [
    {
     "data": {
      "text/plain": [
       "title_id                                         7996\n",
       "title                 弗爵一召唤C罗马上回归曼联！从内到外，揭秘爵爷打造无敌C罗细节\n",
       "event_triples                          [[弗爵, 召唤, c罗]]\n",
       "pred_event_triples                     [[弗爵, 召唤, c罗]]\n",
       "Name: 502, dtype: object"
      ]
     },
     "execution_count": 34,
     "metadata": {},
     "output_type": "execute_result"
    }
   ],
   "source": [
    "df.loc[502]"
   ]
  },
  {
   "cell_type": "code",
   "execution_count": 35,
   "metadata": {},
   "outputs": [
    {
     "data": {
      "text/plain": [
       "title_id                                         4557\n",
       "title                 弗爵一召唤C罗马上回归曼联！从内到外，揭秘爵爷打造无敌C罗细节\n",
       "event_triples            [[弗爵, 召唤, c罗], [爵爷, 打造, c罗]]\n",
       "pred_event_triples    [[弗爵, 召唤, c罗], [c罗, 打造, 爵爷, 罗]]\n",
       "Name: 502, dtype: object"
      ]
     },
     "execution_count": 35,
     "metadata": {},
     "output_type": "execute_result"
    }
   ],
   "source": [
    "df2.loc[502]"
   ]
  },
  {
   "cell_type": "code",
   "execution_count": null,
   "metadata": {},
   "outputs": [],
   "source": []
  }
 ],
 "metadata": {
  "interpreter": {
   "hash": "d8c446a9d3a0c1de8bb02cc831a1dab0e8886a911384e266280eac9075932f59"
  },
  "kernelspec": {
   "display_name": "Python 3.8.12 ('base')",
   "language": "python",
   "name": "python3"
  },
  "language_info": {
   "codemirror_mode": {
    "name": "ipython",
    "version": 3
   },
   "file_extension": ".py",
   "mimetype": "text/x-python",
   "name": "python",
   "nbconvert_exporter": "python",
   "pygments_lexer": "ipython3",
   "version": "3.8.12"
  },
  "orig_nbformat": 4
 },
 "nbformat": 4,
 "nbformat_minor": 2
}
